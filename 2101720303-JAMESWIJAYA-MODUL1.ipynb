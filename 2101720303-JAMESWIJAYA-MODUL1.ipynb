{
  "nbformat": 4,
  "nbformat_minor": 0,
  "metadata": {
    "colab": {
      "name": "Untitled1.ipynb",
      "provenance": []
    },
    "kernelspec": {
      "name": "python3",
      "display_name": "Python 3"
    },
    "language_info": {
      "name": "python"
    }
  },
  "cells": [
    {
      "cell_type": "code",
      "metadata": {
        "colab": {
          "base_uri": "https://localhost:8080/"
        },
        "id": "QSGIq6dB8TUV",
        "outputId": "669aff79-3b89-450e-8c29-05c46422c868"
      },
      "source": [
        "print(\"Hello Pyton 102\")\n",
        "print(float(2))\n",
        "print(int(1.5))\n",
        "print(int(True))\n",
        "print(int(False))\n",
        "print(bool(1))\n",
        "print(bool(0))\n",
        "\n",
        "name = \"james wijaya\"\n",
        "print(name[0:5])\n",
        "print(name[::2])\n",
        "print(name[0:5:2])\n",
        "len(name)\n",
        "print(2*name[0:5])\n",
        "print(name.upper())\n",
        "\n",
        "secondName = name.replace('james', 'jonathan')\n",
        "print(secondName) \n",
        "print(secondName.find('n'))\n",
        "\n",
        "# lab1-1\n",
        "print(\"Hello World\")\n",
        "print(\"Hello\\nWorld\")\n",
        "\n",
        "# lab1-2\n",
        "a=\"1\"\n",
        "print(a)\n",
        "b=\"2\"\n",
        "print(b)\n",
        "c=a+b\n",
        "print(c)\n",
        "d=\"ABCDEFG\"\n",
        "print(d[0:4])\n",
        "e=\"clocrkr1e1c1t\"\n",
        "print(e[::2])\n",
        "print(\"\\\\\")\n",
        "f=\"you are wrong\"\n",
        "print(f.upper())\n",
        "g = \"Mary had a little lamb Little lamb, little lamb Mary had a little lamb \\\n",
        "Its fleece was white as snow And everywhere that Mary went Mary went, Mary went \\\n",
        "Everywhere that Mary went The lamb was sure to go\"\n",
        "print(g.find(\"snow\"))\n",
        "print(g.replace('Mary','Bob'))\n",
        "\n"
      ],
      "execution_count": 32,
      "outputs": [
        {
          "output_type": "stream",
          "name": "stdout",
          "text": [
            "1\n",
            "2\n",
            "12\n",
            "ABCD\n",
            "correct\n",
            "\\\n",
            "YOU ARE WRONG\n",
            "95\n",
            "Bob had a little lamb Little lamb, little lamb Bob had a little lamb Its fleece was white as snow And everywhere that Bob went Bob went, Bob went Everywhere that Bob went The lamb was sure to go\n"
          ]
        }
      ]
    }
  ]
}